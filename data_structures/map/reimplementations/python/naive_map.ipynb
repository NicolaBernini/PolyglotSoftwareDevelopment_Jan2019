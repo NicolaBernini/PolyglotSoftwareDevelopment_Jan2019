{
  "nbformat": 4,
  "nbformat_minor": 0,
  "metadata": {
    "colab": {
      "name": "Re-Implementing Naive Hashing based Maps1.ipynb",
      "version": "0.3.2",
      "provenance": []
    },
    "kernelspec": {
      "name": "python3",
      "display_name": "Python 3"
    }
  },
  "cells": [
    {
      "metadata": {
        "id": "y9I_mJPMvg7d",
        "colab_type": "text"
      },
      "cell_type": "markdown",
      "source": [
        "\n",
        "# Re-Implementing Naive Hashing based Maps1 \n",
        "\n",
        "The idea behind this article is to understand better certain data structure by reimplementing them\n",
        "\n",
        "## What is a Map\n",
        "\n",
        "Map is a Data Structure typically used to store Key-Values association as it allows to very efficient random access: O(1) read, insert, delete\n",
        "\n",
        "## What makes Map so efficient\n",
        "\n",
        "The idea that powers this Data Structure is the hash function which essentially maps the key into a memory location of the underlying storage, which is then assumed to offer random accessible\n",
        "\n",
        "## An example of hashing\n",
        "\n",
        "Let’s first identify the function domain and co-domain so let’s assume\n",
        "\n",
        "- key type is string and\n",
        "- storage is an array so to access its location a valid index, hence an index in [0..Size), is needed\n",
        "So such a function can be implemented for example by summing the ASCII values of each char in the string and then computing the module with the array size\n",
        "\n",
        "## What about an example of implementation\n",
        "\n",
        "Sure here it is\n",
        "\n",
        "\n"
      ]
    },
    {
      "metadata": {
        "id": "badrJN39vdKx",
        "colab_type": "code",
        "colab": {}
      },
      "cell_type": "code",
      "source": [
        "# Specs for Naive Hashing \n",
        "# - Input: String \n",
        "# - Output: Array id \n",
        "# - Naive Hashing Function: sum all the string letters and mod for array size to get an id \n",
        "\n",
        "def hash_str(in_str, in_lin_storage_size): \n",
        "    full_hash_val=0\n",
        "    if(type(in_str) is not str): \n",
        "        raise(ValueError(\"Arg1 needs to be string\"))\n",
        "    for c in in_str: \n",
        "        #print(\"Char \" + str(c))\n",
        "        full_hash_val += ord(c)\n",
        "    final_hash_val = full_hash_val % in_lin_storage_size\n",
        "    #print(\"Full Hash is \" + str(full_hash_val) + \", Final Hash Val is \" + str(final_hash_val))\n",
        "    return final_hash_val\n",
        "        \n",
        "\n",
        "class MyMap: \n",
        "    def __init__(self, size): \n",
        "        self.__storage__ = [None] * size\n",
        "    def size(self): \n",
        "        return len(self.__storage__)\n",
        "    def insert(self, key, value): \n",
        "        h = hash_str(key, len(self.__storage__))\n",
        "        if(self.__storage__[h] is not None): \n",
        "            raise(ValueError(\"Collision Detected\"))\n",
        "        else: \n",
        "            self.__storage__[h] = value \n",
        "    def get(self, key): \n",
        "        h = hash_str(key, len(self.__storage__))\n",
        "        return self.__storage__[h]\n",
        "\n"
      ],
      "execution_count": 0,
      "outputs": []
    },
    {
      "metadata": {
        "id": "MuA33GKRwfKI",
        "colab_type": "text"
      },
      "cell_type": "markdown",
      "source": [
        "\n",
        "# Tests \n",
        "\n",
        "Follow \n"
      ]
    },
    {
      "metadata": {
        "id": "abT4fPGFvj6B",
        "colab_type": "code",
        "colab": {
          "base_uri": "https://localhost:8080/",
          "height": 84
        },
        "outputId": "d04dfe1b-d445-424f-d6c7-0d1f9635d38e"
      },
      "cell_type": "code",
      "source": [
        "# Print Your code here\n",
        "hash_str(\"ciao bello\", 100)\n",
        "\n",
        "a = MyMap(5)\n",
        "print(\"a.size=\" + str(a.size()))\n",
        "\n",
        "\n",
        "a.insert(\"ciao\", 5)\n",
        "a.insert(\"test\", 11)\n",
        "print(\"a['ciao'] = \" + str(a.get(\"ciao\")))\n",
        "print(\"a['test'] = \" + str(a.get(\"test\")))\n",
        "print(\"a['what'] = \" + str(a.get(\"what\")))\n",
        "\n"
      ],
      "execution_count": 3,
      "outputs": [
        {
          "output_type": "stream",
          "text": [
            "a.size=5\n",
            "a['ciao'] = 5\n",
            "a['test'] = 11\n",
            "a['what'] = None\n"
          ],
          "name": "stdout"
        }
      ]
    },
    {
      "metadata": {
        "id": "gnIvc74OwiF5",
        "colab_type": "code",
        "colab": {}
      },
      "cell_type": "code",
      "source": [
        ""
      ],
      "execution_count": 0,
      "outputs": []
    }
  ]
}
